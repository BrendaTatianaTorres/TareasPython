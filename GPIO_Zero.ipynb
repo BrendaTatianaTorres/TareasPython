{
  "nbformat": 4,
  "nbformat_minor": 0,
  "metadata": {
    "colab": {
      "name": "GPIO Zero.ipynb",
      "provenance": [],
      "collapsed_sections": [],
      "authorship_tag": "ABX9TyMJIbpGKCGwwqml525UPwv5",
      "include_colab_link": true
    },
    "kernelspec": {
      "display_name": "Python 3",
      "name": "python3"
    },
    "language_info": {
      "name": "python"
    }
  },
  "cells": [
    {
      "cell_type": "markdown",
      "metadata": {
        "id": "view-in-github",
        "colab_type": "text"
      },
      "source": [
        "<a href=\"https://colab.research.google.com/github/BrendaTatianaTorres/TareasPython/blob/main/GPIO_Zero.ipynb\" target=\"_parent\"><img src=\"https://colab.research.google.com/assets/colab-badge.svg\" alt=\"Open In Colab\"/></a>"
      ]
    },
    {
      "cell_type": "code",
      "metadata": {
        "colab": {
          "background_save": true,
          "base_uri": "https://localhost:8080/",
          "height": 369
        },
        "id": "T2XDVVDsw3q9",
        "outputId": "37bf643f-5f61-4651-d4ae-6afda40db8ab"
      },
      "source": [
        "from gpiozero import Button\n",
        "from gpiozero import LED\n",
        "BtnR= Button(2, hold_repeat = True) #El hold_time ya viene por defecto en un segundo\n",
        "BtnG= Button(3, hold_repeat = True) #El hold_time ya viene por defecto en un segundo\n",
        "BtnB= Button(4, hold_repeat = True) #El hold_time ya viene por defecto en un segundo\n",
        "LedRojo= LED(14, initial_value= False)\n",
        "LedVerde= LED(15, initial_value= False)\n",
        "LedAzul= LED(18, initial_value= False)\n",
        "\n",
        "def on_offR:\n",
        "  LedRojo.toggle()\n",
        "def on_offG:\n",
        "  LedVerde.toggle()\n",
        "def on_offB:\n",
        "  LedAzul.toggle()\n",
        "def parpadearR:\n",
        "  LedRojo.blink(on_time = 1.5, off_time = 1.5, n = 10)\n",
        "def parpadearG:\n",
        "  LedVerde.blink(on_time = 1.5, off_time = 1.5, n = 10)\n",
        "def parpadearB:\n",
        "  LedAzul.blink(on_time = 1.5, off_time = 1.5, n = 10)\n",
        "\n",
        "try:\n",
        "  BtnR.when_pressed= on_offR\n",
        "  BtnR.when_held= parpadearR\n",
        "  BtnG.when_pressed= on_offG\n",
        "  BtnG.when_held= parpadearG\n",
        "  BtnB.when_pressed= on_offB\n",
        "  BtnB.when_held= parpadearB\n",
        "  pause()\n",
        "finally:\n",
        "  pass\n",
        "\n"
      ],
      "execution_count": null,
      "outputs": [
        {
          "ename": "ModuleNotFoundError",
          "evalue": "ignored",
          "output_type": "error",
          "traceback": [
            "\u001b[0;31m---------------------------------------------------------------------------\u001b[0m",
            "\u001b[0;31mModuleNotFoundError\u001b[0m                       Traceback (most recent call last)",
            "\u001b[0;32m<ipython-input-3-a8cfb25b7511>\u001b[0m in \u001b[0;36m<module>\u001b[0;34m()\u001b[0m\n\u001b[0;32m----> 1\u001b[0;31m \u001b[0;32mfrom\u001b[0m \u001b[0mgpiozero\u001b[0m \u001b[0;32mimport\u001b[0m \u001b[0mButton\u001b[0m\u001b[0;34m\u001b[0m\u001b[0;34m\u001b[0m\u001b[0m\n\u001b[0m\u001b[1;32m      2\u001b[0m \u001b[0mBtnR\u001b[0m\u001b[0;34m=\u001b[0m \u001b[0mButton\u001b[0m\u001b[0;34m(\u001b[0m\u001b[0;36m2\u001b[0m\u001b[0;34m)\u001b[0m\u001b[0;34m\u001b[0m\u001b[0;34m\u001b[0m\u001b[0m\n\u001b[1;32m      3\u001b[0m \u001b[0mBtnG\u001b[0m\u001b[0;34m=\u001b[0m \u001b[0mButton\u001b[0m\u001b[0;34m(\u001b[0m\u001b[0;36m3\u001b[0m\u001b[0;34m)\u001b[0m\u001b[0;34m\u001b[0m\u001b[0;34m\u001b[0m\u001b[0m\n\u001b[1;32m      4\u001b[0m \u001b[0mBtnB\u001b[0m\u001b[0;34m=\u001b[0m \u001b[0mButton\u001b[0m\u001b[0;34m(\u001b[0m\u001b[0;36m4\u001b[0m\u001b[0;34m)\u001b[0m\u001b[0;34m\u001b[0m\u001b[0;34m\u001b[0m\u001b[0m\n\u001b[1;32m      5\u001b[0m \u001b[0;34m\u001b[0m\u001b[0m\n",
            "\u001b[0;31mModuleNotFoundError\u001b[0m: No module named 'gpiozero'",
            "",
            "\u001b[0;31m---------------------------------------------------------------------------\u001b[0;32m\nNOTE: If your import is failing due to a missing package, you can\nmanually install dependencies using either !pip or !apt.\n\nTo view examples of installing some common dependencies, click the\n\"Open Examples\" button below.\n\u001b[0;31m---------------------------------------------------------------------------\u001b[0m\n"
          ]
        }
      ]
    }
  ]
}