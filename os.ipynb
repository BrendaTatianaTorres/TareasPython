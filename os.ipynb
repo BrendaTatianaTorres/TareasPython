{
  "nbformat": 4,
  "nbformat_minor": 0,
  "metadata": {
    "colab": {
      "name": "Untitled1.ipynb",
      "provenance": [],
      "authorship_tag": "ABX9TyObNAeD6XW6y0QgpPf87JVS",
      "include_colab_link": true
    },
    "kernelspec": {
      "name": "python3",
      "display_name": "Python 3"
    },
    "language_info": {
      "name": "python"
    }
  },
  "cells": [
    {
      "cell_type": "markdown",
      "metadata": {
        "id": "view-in-github",
        "colab_type": "text"
      },
      "source": [
        "<a href=\"https://colab.research.google.com/github/BrendaTatianaTorres/TareasPython/blob/main/os.ipynb\" target=\"_parent\"><img src=\"https://colab.research.google.com/assets/colab-badge.svg\" alt=\"Open In Colab\"/></a>"
      ]
    },
    {
      "cell_type": "code",
      "metadata": {
        "id": "kw5Midg2ecPe",
        "colab": {
          "base_uri": "https://localhost:8080/"
        },
        "outputId": "6dc6ceb9-9ac7-4514-c892-9d5a4c717745"
      },
      "source": [
        "import os \n",
        "os.chdir('/content')\n",
        "os.listdir()"
      ],
      "execution_count": 11,
      "outputs": [
        {
          "output_type": "execute_result",
          "data": {
            "text/plain": [
              "['.config', 'modulo2', 'modulo3', 'modulo1', 'sample_data']"
            ]
          },
          "metadata": {},
          "execution_count": 11
        }
      ]
    },
    {
      "cell_type": "code",
      "metadata": {
        "id": "iFpduAOTfpoy"
      },
      "source": [
        "import os \n",
        "os.mkdir('modulo1')\n",
        "os.chdir('modulo1')\n",
        "os.mkdir('comentario1')\n",
        "os.chdir('comentario1')\n",
        "os.mkdir('observaciones')"
      ],
      "execution_count": 4,
      "outputs": []
    },
    {
      "cell_type": "code",
      "metadata": {
        "id": "2wMl6brFgUdJ"
      },
      "source": [
        "import os \n",
        "os.chdir('/content')\n",
        "os.mkdir('modulo2')\n",
        "os.chdir('modulo2')\n",
        "os.mkdir('comentario2')\n",
        "os.chdir('comentario2')\n",
        "os.mkdir('observaciones')"
      ],
      "execution_count": 5,
      "outputs": []
    },
    {
      "cell_type": "code",
      "metadata": {
        "id": "Me9evMikgsgu"
      },
      "source": [
        "import os \n",
        "os.chdir('/content')\n",
        "os.mkdir('modulo3')\n",
        "os.chdir('modulo3')\n",
        "os.mkdir('comentario3')\n",
        "os.chdir('comentario3')\n",
        "os.mkdir('observaciones')"
      ],
      "execution_count": 6,
      "outputs": []
    },
    {
      "cell_type": "code",
      "metadata": {
        "colab": {
          "base_uri": "https://localhost:8080/"
        },
        "id": "_JleeCkuhEPG",
        "outputId": "7a3ce81d-4c32-45f0-ee20-b068812a5201"
      },
      "source": [
        "import os\n",
        "os.chdir('/content') \n",
        "os.listdir()\n"
      ],
      "execution_count": 9,
      "outputs": [
        {
          "output_type": "execute_result",
          "data": {
            "text/plain": [
              "['.config', 'modulo2', 'modulo3', 'modulo1', 'sample_data']"
            ]
          },
          "metadata": {},
          "execution_count": 9
        }
      ]
    },
    {
      "cell_type": "code",
      "metadata": {
        "colab": {
          "base_uri": "https://localhost:8080/",
          "height": 182
        },
        "id": "K2DQUmrViK4o",
        "outputId": "3f5e6360-1c99-4065-d41f-791e511c3c27"
      },
      "source": [
        "import os\n",
        "os.rename('modulo1','Modulación')"
      ],
      "execution_count": 14,
      "outputs": [
        {
          "output_type": "error",
          "ename": "FileNotFoundError",
          "evalue": "ignored",
          "traceback": [
            "\u001b[0;31m---------------------------------------------------------------------------\u001b[0m",
            "\u001b[0;31mFileNotFoundError\u001b[0m                         Traceback (most recent call last)",
            "\u001b[0;32m<ipython-input-14-a6db43274962>\u001b[0m in \u001b[0;36m<module>\u001b[0;34m()\u001b[0m\n\u001b[1;32m      1\u001b[0m \u001b[0;32mimport\u001b[0m \u001b[0mos\u001b[0m\u001b[0;34m\u001b[0m\u001b[0;34m\u001b[0m\u001b[0m\n\u001b[0;32m----> 2\u001b[0;31m \u001b[0mos\u001b[0m\u001b[0;34m.\u001b[0m\u001b[0mrename\u001b[0m\u001b[0;34m(\u001b[0m\u001b[0;34m'modulo1'\u001b[0m\u001b[0;34m,\u001b[0m\u001b[0;34m'Modulación'\u001b[0m\u001b[0;34m)\u001b[0m\u001b[0;34m\u001b[0m\u001b[0;34m\u001b[0m\u001b[0m\n\u001b[0m",
            "\u001b[0;31mFileNotFoundError\u001b[0m: [Errno 2] No such file or directory: 'modulo1' -> 'Modulación'"
          ]
        }
      ]
    },
    {
      "cell_type": "code",
      "metadata": {
        "id": "ZDpmzewVjFrW"
      },
      "source": [
        "import os\n",
        "os.rename('modulo2','Transición')\n",
        "os.rename('modulo3','CopiadeSeguridad')"
      ],
      "execution_count": 13,
      "outputs": []
    },
    {
      "cell_type": "code",
      "metadata": {
        "colab": {
          "base_uri": "https://localhost:8080/"
        },
        "id": "ViegRlF8jZvM",
        "outputId": "4d66ab2d-0cd5-4f05-ad51-7893d9832301"
      },
      "source": [
        "import os \n",
        "os.stat('Modulacion')"
      ],
      "execution_count": 16,
      "outputs": [
        {
          "output_type": "execute_result",
          "data": {
            "text/plain": [
              "os.stat_result(st_mode=16877, st_ino=6029314, st_dev=50, st_nlink=3, st_uid=0, st_gid=0, st_size=4096, st_atime=1629327795, st_mtime=1629327783, st_ctime=1629328482)"
            ]
          },
          "metadata": {},
          "execution_count": 16
        }
      ]
    }
  ]
}