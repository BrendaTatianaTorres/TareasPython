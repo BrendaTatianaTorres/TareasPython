{
  "nbformat": 4,
  "nbformat_minor": 0,
  "metadata": {
    "colab": {
      "name": "Untitled0.ipynb",
      "provenance": [],
      "authorship_tag": "ABX9TyNWj04YBQ1WIK4E1Cf7HKyR",
      "include_colab_link": true
    },
    "kernelspec": {
      "name": "python3",
      "display_name": "Python 3"
    },
    "language_info": {
      "name": "python"
    }
  },
  "cells": [
    {
      "cell_type": "markdown",
      "metadata": {
        "id": "view-in-github",
        "colab_type": "text"
      },
      "source": [
        "<a href=\"https://colab.research.google.com/github/BrendaTatianaTorres/TareasPython/blob/main/Sympy.ipynb\" target=\"_parent\"><img src=\"https://colab.research.google.com/assets/colab-badge.svg\" alt=\"Open In Colab\"/></a>"
      ]
    },
    {
      "cell_type": "code",
      "metadata": {
        "colab": {
          "base_uri": "https://localhost:8080/"
        },
        "id": "tlNLE3XDXq2T",
        "outputId": "b4ba10e2-d6a3-45cf-969c-a18eb57bf99c"
      },
      "source": [
        "from sympy import init_session\n",
        "init_session(use_latex=True)\n",
        "x = symbols('x')"
      ],
      "execution_count": 21,
      "outputs": [
        {
          "output_type": "stream",
          "name": "stdout",
          "text": [
            "IPython console for SymPy 1.7.1 (Python 3.7.11-64-bit) (ground types: python)\n",
            "\n",
            "These commands were executed:\n",
            ">>> from __future__ import division\n",
            ">>> from sympy import *\n",
            ">>> x, y, z, t = symbols('x y z t')\n",
            ">>> k, m, n = symbols('k m n', integer=True)\n",
            ">>> f, g, h = symbols('f g h', cls=Function)\n",
            ">>> init_printing()\n",
            "\n",
            "Documentation can be found at https://docs.sympy.org/1.7.1/\n",
            "\n"
          ]
        }
      ]
    },
    {
      "cell_type": "markdown",
      "metadata": {
        "id": "vYSxOtQNsR1E"
      },
      "source": [
        "## **Ejercicio 1** a\n",
        "\n"
      ]
    },
    {
      "cell_type": "code",
      "metadata": {
        "colab": {
          "base_uri": "https://localhost:8080/",
          "height": 54
        },
        "id": "9QRTIWhKm3Z6",
        "outputId": "d3cf4269-8243-471b-8e7f-5bd7e1b645c3"
      },
      "source": [
        "expre1=2*x**4+34*x**3+23\n",
        "ex=Derivative(expre1,x)\n",
        "Derivative(ex,x)"
      ],
      "execution_count": 25,
      "outputs": [
        {
          "output_type": "execute_result",
          "data": {
            "image/png": "[encoded data removed]",
            "text/latex": "$\\displaystyle \\frac{d^{2}}{d x^{2}} \\left(2 x^{4} + 34 x^{3} + 23\\right)$",
            "text/plain": [
              "  2                   \n",
              " d ⎛   4       3     ⎞\n",
              "───⎝2⋅x  + 34⋅x  + 23⎠\n",
              "  2                   \n",
              "dx                    "
            ]
          },
          "metadata": {},
          "execution_count": 25
        }
      ]
    },
    {
      "cell_type": "code",
      "metadata": {
        "colab": {
          "base_uri": "https://localhost:8080/",
          "height": 38
        },
        "id": "_WOJptponKWb",
        "outputId": "30bfd2c9-24e9-432d-d39a-cb91c38071ad"
      },
      "source": [
        "ex.diff(x)"
      ],
      "execution_count": 61,
      "outputs": [
        {
          "output_type": "execute_result",
          "data": {
            "image/png": "[encoded data removed]",
            "text/latex": "$\\displaystyle 12 x \\left(2 x + 17\\right)$",
            "text/plain": [
              "12⋅x⋅(2⋅x + 17)"
            ]
          },
          "metadata": {},
          "execution_count": 61
        }
      ]
    },
    {
      "cell_type": "markdown",
      "metadata": {
        "id": "o26eJVbjtT5c"
      },
      "source": [
        "## **Ejercicio 1** b\n"
      ]
    },
    {
      "cell_type": "code",
      "metadata": {
        "colab": {
          "base_uri": "https://localhost:8080/",
          "height": 52
        },
        "id": "uaZNI9kPmxq2",
        "outputId": "81575970-4502-49f2-e945-7c7c7435ebfd"
      },
      "source": [
        "expre2= x*ln(x)\n",
        "Derivative(expre2,x)"
      ],
      "execution_count": 23,
      "outputs": [
        {
          "output_type": "execute_result",
          "data": {
            "image/png": "[encoded data removed]",
            "text/latex": "$\\displaystyle \\frac{d}{d x} x \\log{\\left(x \\right)}$",
            "text/plain": [
              "d           \n",
              "──(x⋅log(x))\n",
              "dx          "
            ]
          },
          "metadata": {},
          "execution_count": 23
        }
      ]
    },
    {
      "cell_type": "code",
      "metadata": {
        "colab": {
          "base_uri": "https://localhost:8080/",
          "height": 38
        },
        "id": "Rvu4Hxc0tg_N",
        "outputId": "37e32071-c24e-4ba7-c917-71e9bfbae079"
      },
      "source": [
        "expre2.diff(x)"
      ],
      "execution_count": 62,
      "outputs": [
        {
          "output_type": "execute_result",
          "data": {
            "image/png": "[encoded data removed]",
            "text/latex": "$\\displaystyle \\log{\\left(x \\right)} + 1$",
            "text/plain": [
              "log(x) + 1"
            ]
          },
          "metadata": {},
          "execution_count": 62
        }
      ]
    },
    {
      "cell_type": "markdown",
      "metadata": {
        "id": "GdeNRppgtpoc"
      },
      "source": [
        "## **Ejercicio 2** a"
      ]
    },
    {
      "cell_type": "code",
      "metadata": {
        "colab": {
          "base_uri": "https://localhost:8080/",
          "height": 58
        },
        "id": "JW23DRWPnxk3",
        "outputId": "6a2215c2-724d-4910-8c69-e195ef956da3"
      },
      "source": [
        "expre3=cos((x**4)/(y+1))\n",
        "expand(expre3)"
      ],
      "execution_count": 70,
      "outputs": [
        {
          "output_type": "execute_result",
          "data": {
            "image/png": "[encoded data removed]",
            "text/latex": "$\\displaystyle \\cos{\\left(\\frac{x^{4}}{y + 1} \\right)}$",
            "text/plain": [
              "   ⎛   4 ⎞\n",
              "   ⎜  x  ⎟\n",
              "cos⎜─────⎟\n",
              "   ⎝y + 1⎠"
            ]
          },
          "metadata": {},
          "execution_count": 70
        }
      ]
    },
    {
      "cell_type": "markdown",
      "metadata": {
        "id": "xlEAf85puQJS"
      },
      "source": [
        "## **Ejercicio 2** b"
      ]
    },
    {
      "cell_type": "code",
      "metadata": {
        "colab": {
          "base_uri": "https://localhost:8080/",
          "height": 39
        },
        "id": "-sIBCpRGoT1T",
        "outputId": "4feb0a1e-7cc4-4874-9f82-cb5e560c93dc"
      },
      "source": [
        "expre4=x**2+6*x+9\n",
        "factor(expre4)"
      ],
      "execution_count": 35,
      "outputs": [
        {
          "output_type": "execute_result",
          "data": {
            "image/png": "[encoded data removed]",
            "text/latex": "$\\displaystyle \\left(x + 3\\right)^{2}$",
            "text/plain": [
              "       2\n",
              "(x + 3) "
            ]
          },
          "metadata": {},
          "execution_count": 35
        }
      ]
    },
    {
      "cell_type": "markdown",
      "metadata": {
        "id": "lvNYTgOUucY6"
      },
      "source": [
        "## **Ejercicio 3**"
      ]
    },
    {
      "cell_type": "code",
      "metadata": {
        "colab": {
          "base_uri": "https://localhost:8080/",
          "height": 55
        },
        "id": "ktXZxT-3o1EX",
        "outputId": "a8a72cee-8f5d-4711-838f-bf2ff4cb49fa"
      },
      "source": [
        "expre5=(2*x+1*((x**2)+x+1))\n",
        "Integral(expre5,x)"
      ],
      "execution_count": 46,
      "outputs": [
        {
          "output_type": "execute_result",
          "data": {
            "image/png": "[encoded data removed]",
            "text/latex": "$\\displaystyle \\int \\left(x^{2} + 3 x + 1\\right)\\, dx$",
            "text/plain": [
              "⌠                  \n",
              "⎮ ⎛ 2          ⎞   \n",
              "⎮ ⎝x  + 3⋅x + 1⎠ dx\n",
              "⌡                  "
            ]
          },
          "metadata": {},
          "execution_count": 46
        }
      ]
    },
    {
      "cell_type": "code",
      "metadata": {
        "colab": {
          "base_uri": "https://localhost:8080/",
          "height": 54
        },
        "id": "vReeleu5qU-L",
        "outputId": "1336460c-7e4c-46d1-8748-5614d0543187"
      },
      "source": [
        "integrate(_)"
      ],
      "execution_count": 47,
      "outputs": [
        {
          "output_type": "execute_result",
          "data": {
            "image/png": "[encoded data removed]",
            "text/latex": "$\\displaystyle \\frac{x^{4}}{12} + \\frac{x^{3}}{2} + \\frac{x^{2}}{2}$",
            "text/plain": [
              " 4    3    2\n",
              "x    x    x \n",
              "── + ── + ──\n",
              "12   2    2 "
            ]
          },
          "metadata": {},
          "execution_count": 47
        }
      ]
    },
    {
      "cell_type": "code",
      "metadata": {
        "colab": {
          "base_uri": "https://localhost:8080/",
          "height": 51
        },
        "id": "fs3UI6cLqaJ_",
        "outputId": "c0a289a2-a170-4e0f-c219-aa53a1d9c29d"
      },
      "source": [
        "integrate(expre5,(x,0,2))"
      ],
      "execution_count": 51,
      "outputs": [
        {
          "output_type": "execute_result",
          "data": {
            "image/png": "[encoded data removed]",
            "text/latex": "$\\displaystyle \\frac{32}{3}$",
            "text/plain": [
              "32/3"
            ]
          },
          "metadata": {},
          "execution_count": 51
        }
      ]
    },
    {
      "cell_type": "markdown",
      "metadata": {
        "id": "PkaQSu3Gulc8"
      },
      "source": [
        "## **Ejercicio 4**\n"
      ]
    },
    {
      "cell_type": "code",
      "metadata": {
        "id": "wClso3yXq1EM"
      },
      "source": [
        "A=Matrix([\n",
        "          [12,-34,-45],\n",
        "         [-34,-23,100],\n",
        "          [45,12,23]\n",
        "])"
      ],
      "execution_count": 54,
      "outputs": []
    },
    {
      "cell_type": "code",
      "metadata": {
        "colab": {
          "base_uri": "https://localhost:8080/",
          "height": 78
        },
        "id": "r0ZBjp_Dr2fx",
        "outputId": "6d85f236-a6b1-49b8-80ea-7f6464f62710"
      },
      "source": [
        "A.inv()"
      ],
      "execution_count": 56,
      "outputs": [
        {
          "output_type": "execute_result",
          "data": {
            "text/latex": "$\\displaystyle \\left[\\begin{matrix}\\frac{91}{12029} & - \\frac{242}{228551} & \\frac{4435}{228551}\\\\- \\frac{278}{12029} & - \\frac{2301}{228551} & - \\frac{330}{228551}\\\\- \\frac{33}{12029} & \\frac{1674}{228551} & \\frac{1432}{228551}\\end{matrix}\\right]$",
            "text/plain": [
              "⎡  91   -242     4435 ⎤\n",
              "⎢─────  ──────  ──────⎥\n",
              "⎢12029  228551  228551⎥\n",
              "⎢                     ⎥\n",
              "⎢-278   -2301   -330  ⎥\n",
              "⎢─────  ──────  ──────⎥\n",
              "⎢12029  228551  228551⎥\n",
              "⎢                     ⎥\n",
              "⎢ -33    1674    1432 ⎥\n",
              "⎢─────  ──────  ──────⎥\n",
              "⎣12029  228551  228551⎦"
            ]
          },
          "metadata": {},
          "execution_count": 56
        }
      ]
    },
    {
      "cell_type": "code",
      "metadata": {
        "colab": {
          "base_uri": "https://localhost:8080/",
          "height": 37
        },
        "id": "STKVePY1r-0U",
        "outputId": "98f03a50-96c9-4a63-b5fb-e9aaef70c7c7"
      },
      "source": [
        "A.det()"
      ],
      "execution_count": 58,
      "outputs": [
        {
          "output_type": "execute_result",
          "data": {
            "image/png": "[encoded data removed]",
            "text/latex": "$\\displaystyle -228551$",
            "text/plain": [
              "-228551"
            ]
          },
          "metadata": {},
          "execution_count": 58
        }
      ]
    },
    {
      "cell_type": "code",
      "metadata": {
        "colab": {
          "base_uri": "https://localhost:8080/",
          "height": 78
        },
        "id": "2BP_BWk9sFD2",
        "outputId": "3f016111-fc7b-4bda-976d-0b40f5e7f342"
      },
      "source": [
        "A.T"
      ],
      "execution_count": 59,
      "outputs": [
        {
          "output_type": "execute_result",
          "data": {
            "text/latex": "$\\displaystyle \\left[\\begin{matrix}12 & -34 & 45\\\\-34 & -23 & 12\\\\-45 & 100 & 23\\end{matrix}\\right]$",
            "text/plain": [
              "⎡12   -34  45⎤\n",
              "⎢            ⎥\n",
              "⎢-34  -23  12⎥\n",
              "⎢            ⎥\n",
              "⎣-45  100  23⎦"
            ]
          },
          "metadata": {},
          "execution_count": 59
        }
      ]
    }
  ]
}